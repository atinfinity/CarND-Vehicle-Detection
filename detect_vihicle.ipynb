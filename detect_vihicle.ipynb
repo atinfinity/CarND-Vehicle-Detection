{
 "cells": [
  {
   "cell_type": "markdown",
   "metadata": {},
   "source": [
    "# Vehicle Detection(detection)"
   ]
  },
  {
   "cell_type": "code",
   "execution_count": 1,
   "metadata": {},
   "outputs": [],
   "source": [
    "import numpy as np\n",
    "import cv2\n",
    "import imageio\n",
    "from sklearn.externals import joblib\n",
    "import matplotlib.pyplot as plt\n",
    "%matplotlib inline"
   ]
  },
  {
   "cell_type": "code",
   "execution_count": 2,
   "metadata": {},
   "outputs": [],
   "source": [
    "import vehicleDetectUtil as vehicleUtil\n",
    "import vehicleDetect_svmVar as svmVar"
   ]
  },
  {
   "cell_type": "code",
   "execution_count": 3,
   "metadata": {},
   "outputs": [],
   "source": [
    "svc = joblib.load('svm.pkl')\n",
    "X_scaler = joblib.load('svm_scaler.pkl')\n",
    "pca = joblib.load('svm_pca.pkl')\n",
    "\n",
    "from scipy.ndimage.measurements import label\n",
    "windowSizes = [96, 128, 145]\n",
    "windowOverlap = 0.75\n",
    "classifier_imgSize = 64\n",
    "img = cv2.imread('test_images/test1.jpg')\n",
    "img_size = img.shape\n",
    "x_start_stop = [0, img_size[1]]\n",
    "y_start_stop = [int(img_size[0]/2), img_size[0]-32]\n",
    "windows = vehicleUtil.slide_window(img, x_start_stop=[None, None], y_start_stop=y_start_stop, windowSizeAr=windowSizes, xy_overlap=(windowOverlap, windowOverlap))"
   ]
  },
  {
   "cell_type": "code",
   "execution_count": 4,
   "metadata": {},
   "outputs": [
    {
     "name": "stderr",
     "output_type": "stream",
     "text": [
      "/root/miniconda3/envs/carnd-term1/lib/python3.5/site-packages/skimage/feature/_hog.py:119: skimage_deprecation: Default value of `block_norm`==`L1` is deprecated and will be changed to `L2-Hys` in v0.15\n",
      "  'be changed to `L2-Hys` in v0.15', skimage_deprecation)\n"
     ]
    },
    {
     "name": "stdout",
     "output_type": "stream",
     "text": [
      "finished\n"
     ]
    }
   ],
   "source": [
    "filename = 'project_video.mp4'\n",
    "reader = imageio.get_reader(filename, 'ffmpeg')\n",
    "\n",
    "fourcc = cv2.VideoWriter_fourcc(*'MJPG')\n",
    "out = cv2.VideoWriter('output.avi',fourcc, 25.0, (1280,720))\n",
    "\n",
    "for index, img in enumerate(reader):\n",
    "    img = cv2.cvtColor(img, cv2.COLOR_RGB2BGR)\n",
    "    heat = np.zeros_like(img[:,:,0]).astype(np.float)\n",
    "    #print('SVM: extracting windows...')\n",
    "    imgs = vehicleUtil.get_window_imgs(img, windows, classifier_imgSize)\n",
    "    features = vehicleUtil.extract_features(imgs, readImg=False, cspace=svmVar.spatial_clr, spatial_size=(svmVar.spatial, svmVar.spatial),\n",
    "                            hist_bins=svmVar.histbin, hist_range=(0, 256), spatialFeat = svmVar.spatialFeat, histFeat = svmVar.histFeat,\n",
    "                            hogFeat=svmVar.hogFeat, hog_cspace=svmVar.hog_clrspace, hog_orient=svmVar.orient, hog_pix_per_cell=svmVar.pix_per_cell, hog_cell_per_block=svmVar.cell_per_block, hog_channel=svmVar.hog_channel)\n",
    "    X = np.vstack((features)).astype(np.float64)\n",
    "    scaled_X = X_scaler.transform(X)\n",
    "    scaled_X = pca.transform(scaled_X)\n",
    "    pred_bin = svc.predict(scaled_X[:])\n",
    "    #print('plotting hot windows...')\n",
    "    \n",
    "    ind = [x for x in range(len(pred_bin)) if pred_bin[x]==1]\n",
    "    hot_windows = [windows[i] for i in ind]\n",
    "    img = cv2.cvtColor(img, cv2.COLOR_BGR2RGB)\n",
    "    window_img = vehicleUtil.draw_boxes(img, hot_windows, color=(0, 0, 255), thick=6)\n",
    "\n",
    "    heat = vehicleUtil.add_heat(heat,hot_windows)\n",
    "    heatmap = np.clip(heat, 0, 255)\n",
    "    labels = label(heatmap)\n",
    "    label_img = vehicleUtil.draw_labeled_bboxes(np.copy(img), labels)\n",
    "    \n",
    "    out.write(cv2.cvtColor(label_img, cv2.COLOR_RGB2BGR))\n",
    "    #plt.imshow(label_img)\n",
    "    #plt.show()\n",
    "    \n",
    "out.release()\n",
    "print('finished')"
   ]
  }
 ],
 "metadata": {
  "kernelspec": {
   "display_name": "Python 3",
   "language": "python",
   "name": "python3"
  },
  "language_info": {
   "codemirror_mode": {
    "name": "ipython",
    "version": 3
   },
   "file_extension": ".py",
   "mimetype": "text/x-python",
   "name": "python",
   "nbconvert_exporter": "python",
   "pygments_lexer": "ipython3",
   "version": "3.5.4"
  },
  "widgets": {
   "state": {},
   "version": "1.1.2"
  }
 },
 "nbformat": 4,
 "nbformat_minor": 2
}
